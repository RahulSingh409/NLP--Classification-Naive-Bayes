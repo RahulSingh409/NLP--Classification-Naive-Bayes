{
 "cells": [
  {
   "cell_type": "code",
   "execution_count": 45,
   "id": "37b26acf",
   "metadata": {
    "ExecuteTime": {
     "end_time": "2022-02-16T07:31:29.553494Z",
     "start_time": "2022-02-16T07:31:29.162638Z"
    }
   },
   "outputs": [],
   "source": [
    "import numpy as np\n",
    "import pandas as pd "
   ]
  },
  {
   "cell_type": "code",
   "execution_count": 46,
   "id": "468375d7",
   "metadata": {
    "ExecuteTime": {
     "end_time": "2022-02-16T07:31:31.300881Z",
     "start_time": "2022-02-16T07:31:29.598633Z"
    }
   },
   "outputs": [],
   "source": [
    "df= pd.read_csv('../Dataset_Folder/moviereviews.csv')"
   ]
  },
  {
   "cell_type": "code",
   "execution_count": 47,
   "id": "d86f5878",
   "metadata": {
    "ExecuteTime": {
     "end_time": "2022-02-16T07:31:31.534422Z",
     "start_time": "2022-02-16T07:31:31.303879Z"
    }
   },
   "outputs": [
    {
     "data": {
      "text/html": [
       "<div>\n",
       "<style scoped>\n",
       "    .dataframe tbody tr th:only-of-type {\n",
       "        vertical-align: middle;\n",
       "    }\n",
       "\n",
       "    .dataframe tbody tr th {\n",
       "        vertical-align: top;\n",
       "    }\n",
       "\n",
       "    .dataframe thead th {\n",
       "        text-align: right;\n",
       "    }\n",
       "</style>\n",
       "<table border=\"1\" class=\"dataframe\">\n",
       "  <thead>\n",
       "    <tr style=\"text-align: right;\">\n",
       "      <th></th>\n",
       "      <th>label</th>\n",
       "      <th>review</th>\n",
       "    </tr>\n",
       "  </thead>\n",
       "  <tbody>\n",
       "    <tr>\n",
       "      <th>0</th>\n",
       "      <td>neg</td>\n",
       "      <td>how do films like mouse hunt get into theatres...</td>\n",
       "    </tr>\n",
       "    <tr>\n",
       "      <th>1</th>\n",
       "      <td>neg</td>\n",
       "      <td>some talented actresses are blessed with a dem...</td>\n",
       "    </tr>\n",
       "    <tr>\n",
       "      <th>2</th>\n",
       "      <td>pos</td>\n",
       "      <td>this has been an extraordinary year for austra...</td>\n",
       "    </tr>\n",
       "    <tr>\n",
       "      <th>3</th>\n",
       "      <td>pos</td>\n",
       "      <td>according to hollywood movies made in last few...</td>\n",
       "    </tr>\n",
       "    <tr>\n",
       "      <th>4</th>\n",
       "      <td>neg</td>\n",
       "      <td>my first press screening of 1998 and already i...</td>\n",
       "    </tr>\n",
       "    <tr>\n",
       "      <th>...</th>\n",
       "      <td>...</td>\n",
       "      <td>...</td>\n",
       "    </tr>\n",
       "    <tr>\n",
       "      <th>1995</th>\n",
       "      <td>pos</td>\n",
       "      <td>i like movies with albert brooks , and i reall...</td>\n",
       "    </tr>\n",
       "    <tr>\n",
       "      <th>1996</th>\n",
       "      <td>pos</td>\n",
       "      <td>it might surprise some to know that joel and e...</td>\n",
       "    </tr>\n",
       "    <tr>\n",
       "      <th>1997</th>\n",
       "      <td>pos</td>\n",
       "      <td>the verdict : spine-chilling drama from horror...</td>\n",
       "    </tr>\n",
       "    <tr>\n",
       "      <th>1998</th>\n",
       "      <td>pos</td>\n",
       "      <td>i want to correct what i wrote in a former ret...</td>\n",
       "    </tr>\n",
       "    <tr>\n",
       "      <th>1999</th>\n",
       "      <td>pos</td>\n",
       "      <td>a couple of months ago , when i first download...</td>\n",
       "    </tr>\n",
       "  </tbody>\n",
       "</table>\n",
       "<p>2000 rows × 2 columns</p>\n",
       "</div>"
      ],
      "text/plain": [
       "     label                                             review\n",
       "0      neg  how do films like mouse hunt get into theatres...\n",
       "1      neg  some talented actresses are blessed with a dem...\n",
       "2      pos  this has been an extraordinary year for austra...\n",
       "3      pos  according to hollywood movies made in last few...\n",
       "4      neg  my first press screening of 1998 and already i...\n",
       "...    ...                                                ...\n",
       "1995   pos  i like movies with albert brooks , and i reall...\n",
       "1996   pos  it might surprise some to know that joel and e...\n",
       "1997   pos  the verdict : spine-chilling drama from horror...\n",
       "1998   pos  i want to correct what i wrote in a former ret...\n",
       "1999   pos  a couple of months ago , when i first download...\n",
       "\n",
       "[2000 rows x 2 columns]"
      ]
     },
     "execution_count": 47,
     "metadata": {},
     "output_type": "execute_result"
    }
   ],
   "source": [
    "df"
   ]
  },
  {
   "cell_type": "code",
   "execution_count": 48,
   "id": "175e4943",
   "metadata": {
    "ExecuteTime": {
     "end_time": "2022-02-16T07:31:31.813630Z",
     "start_time": "2022-02-16T07:31:31.537200Z"
    }
   },
   "outputs": [
    {
     "data": {
      "text/plain": [
       "label      0\n",
       "review    35\n",
       "dtype: int64"
      ]
     },
     "execution_count": 48,
     "metadata": {},
     "output_type": "execute_result"
    }
   ],
   "source": [
    "df.isnull().sum()"
   ]
  },
  {
   "cell_type": "code",
   "execution_count": 49,
   "id": "73296926",
   "metadata": {
    "ExecuteTime": {
     "end_time": "2022-02-16T07:31:32.028930Z",
     "start_time": "2022-02-16T07:31:31.818453Z"
    }
   },
   "outputs": [],
   "source": [
    "df= df.dropna()"
   ]
  },
  {
   "cell_type": "code",
   "execution_count": 50,
   "id": "5c04e388",
   "metadata": {
    "ExecuteTime": {
     "end_time": "2022-02-16T07:31:32.075701Z",
     "start_time": "2022-02-16T07:31:32.036739Z"
    }
   },
   "outputs": [
    {
     "data": {
      "text/plain": [
       "label     0\n",
       "review    0\n",
       "dtype: int64"
      ]
     },
     "execution_count": 50,
     "metadata": {},
     "output_type": "execute_result"
    }
   ],
   "source": [
    "df.isnull().sum()"
   ]
  },
  {
   "cell_type": "markdown",
   "id": "ec32d3b5",
   "metadata": {},
   "source": [
    "Check to see if any reviews are blank strings and not just NaN. Note: This means a review text could just be: \"\" or \" \" or some other larger blank string."
   ]
  },
  {
   "cell_type": "code",
   "execution_count": 51,
   "id": "056ebd40",
   "metadata": {
    "ExecuteTime": {
     "end_time": "2022-02-16T07:31:32.201213Z",
     "start_time": "2022-02-16T07:31:32.078624Z"
    }
   },
   "outputs": [
    {
     "data": {
      "text/plain": [
       "27"
      ]
     },
     "execution_count": 51,
     "metadata": {},
     "output_type": "execute_result"
    }
   ],
   "source": [
    "df['review'].str.isspace().sum()"
   ]
  },
  {
   "cell_type": "code",
   "execution_count": 52,
   "id": "bd04a2fe",
   "metadata": {
    "ExecuteTime": {
     "end_time": "2022-02-16T07:31:32.341307Z",
     "start_time": "2022-02-16T07:31:32.244956Z"
    }
   },
   "outputs": [
    {
     "data": {
      "text/html": [
       "<div>\n",
       "<style scoped>\n",
       "    .dataframe tbody tr th:only-of-type {\n",
       "        vertical-align: middle;\n",
       "    }\n",
       "\n",
       "    .dataframe tbody tr th {\n",
       "        vertical-align: top;\n",
       "    }\n",
       "\n",
       "    .dataframe thead th {\n",
       "        text-align: right;\n",
       "    }\n",
       "</style>\n",
       "<table border=\"1\" class=\"dataframe\">\n",
       "  <thead>\n",
       "    <tr style=\"text-align: right;\">\n",
       "      <th></th>\n",
       "      <th>label</th>\n",
       "      <th>review</th>\n",
       "    </tr>\n",
       "  </thead>\n",
       "  <tbody>\n",
       "    <tr>\n",
       "      <th>57</th>\n",
       "      <td>neg</td>\n",
       "      <td></td>\n",
       "    </tr>\n",
       "    <tr>\n",
       "      <th>71</th>\n",
       "      <td>pos</td>\n",
       "      <td></td>\n",
       "    </tr>\n",
       "    <tr>\n",
       "      <th>147</th>\n",
       "      <td>pos</td>\n",
       "      <td></td>\n",
       "    </tr>\n",
       "    <tr>\n",
       "      <th>151</th>\n",
       "      <td>pos</td>\n",
       "      <td></td>\n",
       "    </tr>\n",
       "    <tr>\n",
       "      <th>283</th>\n",
       "      <td>pos</td>\n",
       "      <td></td>\n",
       "    </tr>\n",
       "    <tr>\n",
       "      <th>307</th>\n",
       "      <td>pos</td>\n",
       "      <td></td>\n",
       "    </tr>\n",
       "    <tr>\n",
       "      <th>313</th>\n",
       "      <td>neg</td>\n",
       "      <td></td>\n",
       "    </tr>\n",
       "    <tr>\n",
       "      <th>323</th>\n",
       "      <td>pos</td>\n",
       "      <td></td>\n",
       "    </tr>\n",
       "    <tr>\n",
       "      <th>343</th>\n",
       "      <td>pos</td>\n",
       "      <td></td>\n",
       "    </tr>\n",
       "    <tr>\n",
       "      <th>351</th>\n",
       "      <td>neg</td>\n",
       "      <td></td>\n",
       "    </tr>\n",
       "    <tr>\n",
       "      <th>427</th>\n",
       "      <td>pos</td>\n",
       "      <td></td>\n",
       "    </tr>\n",
       "    <tr>\n",
       "      <th>501</th>\n",
       "      <td>neg</td>\n",
       "      <td></td>\n",
       "    </tr>\n",
       "    <tr>\n",
       "      <th>633</th>\n",
       "      <td>pos</td>\n",
       "      <td></td>\n",
       "    </tr>\n",
       "    <tr>\n",
       "      <th>675</th>\n",
       "      <td>neg</td>\n",
       "      <td></td>\n",
       "    </tr>\n",
       "    <tr>\n",
       "      <th>815</th>\n",
       "      <td>neg</td>\n",
       "      <td></td>\n",
       "    </tr>\n",
       "    <tr>\n",
       "      <th>851</th>\n",
       "      <td>neg</td>\n",
       "      <td></td>\n",
       "    </tr>\n",
       "    <tr>\n",
       "      <th>977</th>\n",
       "      <td>neg</td>\n",
       "      <td></td>\n",
       "    </tr>\n",
       "    <tr>\n",
       "      <th>1079</th>\n",
       "      <td>neg</td>\n",
       "      <td></td>\n",
       "    </tr>\n",
       "    <tr>\n",
       "      <th>1299</th>\n",
       "      <td>pos</td>\n",
       "      <td></td>\n",
       "    </tr>\n",
       "    <tr>\n",
       "      <th>1455</th>\n",
       "      <td>neg</td>\n",
       "      <td></td>\n",
       "    </tr>\n",
       "    <tr>\n",
       "      <th>1493</th>\n",
       "      <td>pos</td>\n",
       "      <td></td>\n",
       "    </tr>\n",
       "    <tr>\n",
       "      <th>1525</th>\n",
       "      <td>neg</td>\n",
       "      <td></td>\n",
       "    </tr>\n",
       "    <tr>\n",
       "      <th>1531</th>\n",
       "      <td>neg</td>\n",
       "      <td></td>\n",
       "    </tr>\n",
       "    <tr>\n",
       "      <th>1763</th>\n",
       "      <td>neg</td>\n",
       "      <td></td>\n",
       "    </tr>\n",
       "    <tr>\n",
       "      <th>1851</th>\n",
       "      <td>neg</td>\n",
       "      <td></td>\n",
       "    </tr>\n",
       "    <tr>\n",
       "      <th>1905</th>\n",
       "      <td>pos</td>\n",
       "      <td></td>\n",
       "    </tr>\n",
       "    <tr>\n",
       "      <th>1993</th>\n",
       "      <td>pos</td>\n",
       "      <td></td>\n",
       "    </tr>\n",
       "  </tbody>\n",
       "</table>\n",
       "</div>"
      ],
      "text/plain": [
       "     label review\n",
       "57     neg       \n",
       "71     pos       \n",
       "147    pos       \n",
       "151    pos       \n",
       "283    pos       \n",
       "307    pos       \n",
       "313    neg       \n",
       "323    pos       \n",
       "343    pos       \n",
       "351    neg       \n",
       "427    pos       \n",
       "501    neg       \n",
       "633    pos       \n",
       "675    neg       \n",
       "815    neg       \n",
       "851    neg       \n",
       "977    neg       \n",
       "1079   neg       \n",
       "1299   pos       \n",
       "1455   neg       \n",
       "1493   pos       \n",
       "1525   neg       \n",
       "1531   neg       \n",
       "1763   neg       \n",
       "1851   neg       \n",
       "1905   pos       \n",
       "1993   pos       "
      ]
     },
     "execution_count": 52,
     "metadata": {},
     "output_type": "execute_result"
    }
   ],
   "source": [
    "df[df['review'].str.isspace()]"
   ]
  },
  {
   "cell_type": "code",
   "execution_count": 53,
   "id": "ff5b911b",
   "metadata": {
    "ExecuteTime": {
     "end_time": "2022-02-16T07:31:32.467245Z",
     "start_time": "2022-02-16T07:31:32.344401Z"
    }
   },
   "outputs": [],
   "source": [
    "df = df[~df['review'].str.isspace()]"
   ]
  },
  {
   "cell_type": "code",
   "execution_count": 54,
   "id": "f2aecf96",
   "metadata": {
    "ExecuteTime": {
     "end_time": "2022-02-16T07:31:32.674496Z",
     "start_time": "2022-02-16T07:31:32.513130Z"
    }
   },
   "outputs": [
    {
     "name": "stdout",
     "output_type": "stream",
     "text": [
      "<class 'pandas.core.frame.DataFrame'>\n",
      "Int64Index: 1938 entries, 0 to 1999\n",
      "Data columns (total 2 columns):\n",
      " #   Column  Non-Null Count  Dtype \n",
      "---  ------  --------------  ----- \n",
      " 0   label   1938 non-null   object\n",
      " 1   review  1938 non-null   object\n",
      "dtypes: object(2)\n",
      "memory usage: 45.4+ KB\n"
     ]
    }
   ],
   "source": [
    "df.info()"
   ]
  },
  {
   "cell_type": "code",
   "execution_count": 55,
   "id": "3c1a60a5",
   "metadata": {
    "ExecuteTime": {
     "end_time": "2022-02-16T07:31:32.751202Z",
     "start_time": "2022-02-16T07:31:32.676111Z"
    }
   },
   "outputs": [
    {
     "data": {
      "text/plain": [
       "neg    969\n",
       "pos    969\n",
       "Name: label, dtype: int64"
      ]
     },
     "execution_count": 55,
     "metadata": {},
     "output_type": "execute_result"
    }
   ],
   "source": [
    "df['label'].value_counts()"
   ]
  },
  {
   "cell_type": "markdown",
   "id": "fa85c36a",
   "metadata": {},
   "source": [
    "# EDA on Bag of Words"
   ]
  },
  {
   "cell_type": "code",
   "execution_count": 56,
   "id": "d31985ef",
   "metadata": {
    "ExecuteTime": {
     "end_time": "2022-02-16T07:31:32.906992Z",
     "start_time": "2022-02-16T07:31:32.753196Z"
    }
   },
   "outputs": [],
   "source": [
    "from sklearn.feature_extraction.text import CountVectorizer"
   ]
  },
  {
   "cell_type": "code",
   "execution_count": 57,
   "id": "de559ec7",
   "metadata": {
    "ExecuteTime": {
     "end_time": "2022-02-16T07:31:33.001739Z",
     "start_time": "2022-02-16T07:31:32.909979Z"
    }
   },
   "outputs": [],
   "source": [
    "cv = CountVectorizer(stop_words='english')"
   ]
  },
  {
   "cell_type": "code",
   "execution_count": 58,
   "id": "ff1f1b8a",
   "metadata": {
    "ExecuteTime": {
     "end_time": "2022-02-16T07:31:34.651878Z",
     "start_time": "2022-02-16T07:31:33.004727Z"
    }
   },
   "outputs": [
    {
     "name": "stdout",
     "output_type": "stream",
     "text": [
      "Top 20 words used for Negative reviews.\n",
      "[('film', 4063), ('movie', 3131), ('like', 1808), ('just', 1480), ('time', 1127), ('good', 1117), ('bad', 997), ('character', 926), ('story', 908), ('plot', 888), ('characters', 838), ('make', 813), ('really', 743), ('way', 734), ('little', 696), ('don', 683), ('does', 666), ('doesn', 648), ('action', 635), ('scene', 634)]\n"
     ]
    }
   ],
   "source": [
    "matrix = cv.fit_transform(df[df['label']=='neg']['review'])\n",
    "freqs = zip(cv.get_feature_names(), matrix.sum(axis=0).tolist()[0])    \n",
    "# sort from largest to smallest\n",
    "print(\"Top 20 words used for Negative reviews.\")\n",
    "print(sorted(freqs, key=lambda x: -x[1])[:20])"
   ]
  },
  {
   "cell_type": "code",
   "execution_count": 59,
   "id": "b9783ad8",
   "metadata": {
    "ExecuteTime": {
     "end_time": "2022-02-16T07:31:35.248224Z",
     "start_time": "2022-02-16T07:31:34.653717Z"
    }
   },
   "outputs": [
    {
     "name": "stdout",
     "output_type": "stream",
     "text": [
      "Top 20 words used for Positive reviews.\n",
      "[('film', 5002), ('movie', 2389), ('like', 1721), ('just', 1273), ('story', 1199), ('good', 1193), ('time', 1175), ('character', 1037), ('life', 1032), ('characters', 957), ('way', 864), ('films', 851), ('does', 828), ('best', 788), ('people', 769), ('make', 764), ('little', 751), ('really', 731), ('man', 728), ('new', 702)]\n"
     ]
    }
   ],
   "source": [
    "matrix = cv.fit_transform(df[df['label']=='pos']['review'])\n",
    "freqs = zip(cv.get_feature_names(), matrix.sum(axis=0).tolist()[0])    \n",
    "# sort from largest to smallest\n",
    "print(\"Top 20 words used for Positive reviews.\")\n",
    "print(sorted(freqs, key=lambda x: -x[1])[:20])"
   ]
  },
  {
   "cell_type": "markdown",
   "id": "14db31b0",
   "metadata": {},
   "source": [
    "# Training and Data"
   ]
  },
  {
   "cell_type": "code",
   "execution_count": 60,
   "id": "cc695a8c",
   "metadata": {
    "ExecuteTime": {
     "end_time": "2022-02-16T07:31:35.634433Z",
     "start_time": "2022-02-16T07:31:35.250219Z"
    }
   },
   "outputs": [],
   "source": [
    "from sklearn.model_selection import train_test_split\n",
    "\n",
    "X = df['review'].astype(str)\n",
    "y = df['label']\n",
    "\n",
    "X_train, X_test, y_train, y_test = train_test_split(X, y, test_size=0.2, random_state=101)"
   ]
  },
  {
   "cell_type": "markdown",
   "id": "c5e07dcd",
   "metadata": {},
   "source": [
    "# Vectorization"
   ]
  },
  {
   "cell_type": "code",
   "execution_count": 61,
   "id": "e3c4fc02",
   "metadata": {
    "ExecuteTime": {
     "end_time": "2022-02-16T07:31:35.649399Z",
     "start_time": "2022-02-16T07:31:35.636727Z"
    }
   },
   "outputs": [],
   "source": [
    "from sklearn.feature_extraction.text import TfidfVectorizer"
   ]
  },
  {
   "cell_type": "code",
   "execution_count": 62,
   "id": "e22ee120",
   "metadata": {
    "ExecuteTime": {
     "end_time": "2022-02-16T07:31:35.979448Z",
     "start_time": "2022-02-16T07:31:35.651257Z"
    }
   },
   "outputs": [],
   "source": [
    "tfidf = TfidfVectorizer(stop_words='english')"
   ]
  },
  {
   "cell_type": "code",
   "execution_count": 63,
   "id": "a7bb6693",
   "metadata": {
    "ExecuteTime": {
     "end_time": "2022-02-16T07:31:37.187395Z",
     "start_time": "2022-02-16T07:31:35.986418Z"
    }
   },
   "outputs": [
    {
     "data": {
      "text/plain": [
       "TfidfVectorizer(stop_words='english')"
      ]
     },
     "execution_count": 63,
     "metadata": {},
     "output_type": "execute_result"
    }
   ],
   "source": [
    "tfidf.fit(X_train)"
   ]
  },
  {
   "cell_type": "code",
   "execution_count": 64,
   "id": "6022ec7b",
   "metadata": {
    "ExecuteTime": {
     "end_time": "2022-02-16T07:31:38.027645Z",
     "start_time": "2022-02-16T07:31:37.191191Z"
    }
   },
   "outputs": [],
   "source": [
    "X_train_tfidf = tfidf.transform(X_train)\n",
    "X_test_tfidf = tfidf.transform(X_test)"
   ]
  },
  {
   "cell_type": "code",
   "execution_count": 65,
   "id": "58f070b7",
   "metadata": {
    "ExecuteTime": {
     "end_time": "2022-02-16T07:31:38.059272Z",
     "start_time": "2022-02-16T07:31:38.028652Z"
    }
   },
   "outputs": [
    {
     "data": {
      "text/plain": [
       "<1550x35075 sparse matrix of type '<class 'numpy.float64'>'\n",
       "\twith 374673 stored elements in Compressed Sparse Row format>"
      ]
     },
     "execution_count": 65,
     "metadata": {},
     "output_type": "execute_result"
    }
   ],
   "source": [
    "X_train_tfidf"
   ]
  },
  {
   "cell_type": "markdown",
   "id": "2048b262",
   "metadata": {},
   "source": [
    "# Model Comparisons - Naive Bayes,LogisticRegression, LinearSVC"
   ]
  },
  {
   "cell_type": "code",
   "execution_count": 66,
   "id": "13dad6dc",
   "metadata": {
    "ExecuteTime": {
     "end_time": "2022-02-16T07:31:38.153600Z",
     "start_time": "2022-02-16T07:31:38.060150Z"
    }
   },
   "outputs": [],
   "source": [
    "from sklearn.naive_bayes import MultinomialNB\n",
    "from sklearn.metrics import classification_report"
   ]
  },
  {
   "cell_type": "code",
   "execution_count": 67,
   "id": "6f45534e",
   "metadata": {
    "ExecuteTime": {
     "end_time": "2022-02-16T07:31:41.802389Z",
     "start_time": "2022-02-16T07:31:38.156595Z"
    }
   },
   "outputs": [
    {
     "data": {
      "text/plain": [
       "MultinomialNB()"
      ]
     },
     "execution_count": 67,
     "metadata": {},
     "output_type": "execute_result"
    }
   ],
   "source": [
    "#Naive Bayes Classifier\n",
    "nb = MultinomialNB()\n",
    "nb.fit(X_train_tfidf,y_train)"
   ]
  },
  {
   "cell_type": "code",
   "execution_count": 68,
   "id": "4c7b661a",
   "metadata": {
    "ExecuteTime": {
     "end_time": "2022-02-16T07:31:43.585776Z",
     "start_time": "2022-02-16T07:31:41.803209Z"
    }
   },
   "outputs": [
    {
     "data": {
      "text/plain": [
       "LogisticRegression(max_iter=1000)"
      ]
     },
     "execution_count": 68,
     "metadata": {},
     "output_type": "execute_result"
    }
   ],
   "source": [
    "from sklearn.linear_model import LogisticRegression\n",
    "log = LogisticRegression(max_iter=1000)\n",
    "log.fit(X_train_tfidf,y_train)"
   ]
  },
  {
   "cell_type": "code",
   "execution_count": 69,
   "id": "560db434",
   "metadata": {
    "ExecuteTime": {
     "end_time": "2022-02-16T07:31:43.710496Z",
     "start_time": "2022-02-16T07:31:43.586982Z"
    }
   },
   "outputs": [
    {
     "data": {
      "text/plain": [
       "LinearSVC()"
      ]
     },
     "execution_count": 69,
     "metadata": {},
     "output_type": "execute_result"
    }
   ],
   "source": [
    "from sklearn.svm import LinearSVC\n",
    "svc = LinearSVC()\n",
    "svc.fit(X_train_tfidf,y_train)"
   ]
  },
  {
   "cell_type": "markdown",
   "id": "823191bc",
   "metadata": {},
   "source": [
    "# Performance Evaluation"
   ]
  },
  {
   "cell_type": "code",
   "execution_count": 70,
   "id": "c7abe84e",
   "metadata": {
    "ExecuteTime": {
     "end_time": "2022-02-16T07:31:43.742436Z",
     "start_time": "2022-02-16T07:31:43.711433Z"
    }
   },
   "outputs": [],
   "source": [
    "from sklearn.metrics import plot_confusion_matrix,classification_report"
   ]
  },
  {
   "cell_type": "code",
   "execution_count": 71,
   "id": "2f3852dc",
   "metadata": {
    "ExecuteTime": {
     "end_time": "2022-02-16T07:31:43.834827Z",
     "start_time": "2022-02-16T07:31:43.743347Z"
    }
   },
   "outputs": [],
   "source": [
    "def report(model):\n",
    "    preds = model.predict(X_test_tfidf)\n",
    "    print(classification_report(y_test,preds))\n",
    "    plot_confusion_matrix(model,X_test_tfidf,y_test)"
   ]
  },
  {
   "cell_type": "code",
   "execution_count": 72,
   "id": "5aaacd7a",
   "metadata": {
    "ExecuteTime": {
     "end_time": "2022-02-16T07:31:45.630853Z",
     "start_time": "2022-02-16T07:31:43.852690Z"
    }
   },
   "outputs": [
    {
     "name": "stdout",
     "output_type": "stream",
     "text": [
      "              precision    recall  f1-score   support\n",
      "\n",
      "         neg       0.78      0.87      0.82       191\n",
      "         pos       0.86      0.76      0.80       197\n",
      "\n",
      "    accuracy                           0.81       388\n",
      "   macro avg       0.82      0.81      0.81       388\n",
      "weighted avg       0.82      0.81      0.81       388\n",
      "\n"
     ]
    },
    {
     "data": {
      "image/png": "[encoded data removed]",
      "text/plain": [
       "<Figure size 432x288 with 2 Axes>"
      ]
     },
     "metadata": {
      "needs_background": "light"
     },
     "output_type": "display_data"
    }
   ],
   "source": [
    "report(nb)"
   ]
  },
  {
   "cell_type": "code",
   "execution_count": 73,
   "id": "99ed9057",
   "metadata": {
    "ExecuteTime": {
     "end_time": "2022-02-16T07:31:46.068322Z",
     "start_time": "2022-02-16T07:31:45.636353Z"
    }
   },
   "outputs": [
    {
     "name": "stdout",
     "output_type": "stream",
     "text": [
      "              precision    recall  f1-score   support\n",
      "\n",
      "         neg       0.80      0.85      0.83       191\n",
      "         pos       0.85      0.79      0.82       197\n",
      "\n",
      "    accuracy                           0.82       388\n",
      "   macro avg       0.82      0.82      0.82       388\n",
      "weighted avg       0.82      0.82      0.82       388\n",
      "\n"
     ]
    },
    {
     "data": {
      "image/png": "[encoded data removed]",
      "text/plain": [
       "<Figure size 432x288 with 2 Axes>"
      ]
     },
     "metadata": {
      "needs_background": "light"
     },
     "output_type": "display_data"
    }
   ],
   "source": [
    "report(log)"
   ]
  },
  {
   "cell_type": "code",
   "execution_count": 74,
   "id": "8adc7c03",
   "metadata": {
    "ExecuteTime": {
     "end_time": "2022-02-16T07:31:46.258679Z",
     "start_time": "2022-02-16T07:31:46.071316Z"
    }
   },
   "outputs": [
    {
     "name": "stdout",
     "output_type": "stream",
     "text": [
      "              precision    recall  f1-score   support\n",
      "\n",
      "         neg       0.81      0.84      0.82       191\n",
      "         pos       0.84      0.81      0.82       197\n",
      "\n",
      "    accuracy                           0.82       388\n",
      "   macro avg       0.82      0.82      0.82       388\n",
      "weighted avg       0.83      0.82      0.82       388\n",
      "\n"
     ]
    },
    {
     "data": {
      "image/png": "[encoded data removed]",
      "text/plain": [
       "<Figure size 432x288 with 2 Axes>"
      ]
     },
     "metadata": {
      "needs_background": "light"
     },
     "output_type": "display_data"
    }
   ],
   "source": [
    "report(svc)"
   ]
  },
  {
   "cell_type": "markdown",
   "id": "c381a314",
   "metadata": {},
   "source": [
    "# Finalizing a PipeLine for Deployment"
   ]
  },
  {
   "cell_type": "code",
   "execution_count": 75,
   "id": "128939c0",
   "metadata": {
    "ExecuteTime": {
     "end_time": "2022-02-16T07:31:46.289325Z",
     "start_time": "2022-02-16T07:31:46.260677Z"
    }
   },
   "outputs": [],
   "source": [
    "from sklearn.pipeline import Pipeline"
   ]
  },
  {
   "cell_type": "code",
   "execution_count": 76,
   "id": "ee98a907",
   "metadata": {
    "ExecuteTime": {
     "end_time": "2022-02-16T07:31:46.397281Z",
     "start_time": "2022-02-16T07:31:46.291443Z"
    }
   },
   "outputs": [],
   "source": [
    "pipe = Pipeline([('tfidf',TfidfVectorizer()),('svc',LinearSVC())])"
   ]
  },
  {
   "cell_type": "code",
   "execution_count": 77,
   "id": "9bab1137",
   "metadata": {
    "ExecuteTime": {
     "end_time": "2022-02-16T07:31:47.701659Z",
     "start_time": "2022-02-16T07:31:46.403959Z"
    }
   },
   "outputs": [
    {
     "data": {
      "text/plain": [
       "Pipeline(steps=[('tfidf', TfidfVectorizer()), ('svc', LinearSVC())])"
      ]
     },
     "execution_count": 77,
     "metadata": {},
     "output_type": "execute_result"
    }
   ],
   "source": [
    "pipe.fit(df['review'],df['label'])"
   ]
  },
  {
   "cell_type": "code",
   "execution_count": 78,
   "id": "b2d869e5",
   "metadata": {
    "ExecuteTime": {
     "end_time": "2022-02-16T07:31:47.716809Z",
     "start_time": "2022-02-16T07:31:47.704649Z"
    }
   },
   "outputs": [],
   "source": [
    "new_review=['''robert benton has assembled a stellar , mature cast for his latest feature , twilight , a film noir mystery set amid the fading stars of hollywood . \n",
    "paul newman stars as retired detective harry ross . \n",
    "harry has spent the last couple of years doing odd jobs for jack and catherine ames ( gene hackman and susan sarandon ) , a pair of married actors who have fallen from the limelight . \n",
    "when jack sends him on a routine delivery job , however , the old instincts kick in . \n",
    "soon , harry is wading through a mystery where friendships and lives are on the line , and he no longer knows who to trust . \n",
    "there are plenty of familiar faces throughout twilight , in addition to newman , hackman and sarandon . \n",
    "james garner plays raymond hope , a former cop and one of harry's best friends . \n",
    "stockard channing plays verna , harry's former partner , and possibly a former love interest . \n",
    "reese witherspoon is mel , the distrustful daughter of the ames' , and liev schrieber is her scuzzy boyfriend . \n",
    "giancarlo esposito appears as harry's bumbling detective protigi , and john spencer is a suspicious police captain . \n",
    "with a cast like that , it's almost worth watching twilight just to stargaze . \n",
    "luckily , there's more to the film than some sort of actor's recognition ceremony . \n",
    "twilight has a solid film noir-ish plot . \n",
    "it may not have as many twists and turns as some of the classics , but it has much more than a lot of what passes for film these days . \n",
    "the major cast members all deliver strong performances , as can be expected of their caliber . \n",
    "however , none of them have that little extra oomph which would make them memorable . \n",
    "the supporting cast is enjoyable , if a little underdrawn . \n",
    "stockard channing's character , in particular , is a cipher . \n",
    "there's more to her character than the film takes the time to describe . \n",
    "it's a minor , but irritating , flaw . \n",
    "with a solid cast , and a good plot , there's a lot to recommend about twilight . \n",
    "it's biggest flaw is actually its short running time . \n",
    "at a slim 94 minutes , there's a lot of stuff that's packed into an awfully small package . \n",
    "still , the chance to see newman , sarandon and hackman working together is worth a cramp or two .''' \n",
    "]"
   ]
  },
  {
   "cell_type": "code",
   "execution_count": 79,
   "id": "a00aa8e8",
   "metadata": {
    "ExecuteTime": {
     "end_time": "2022-02-16T07:31:47.903510Z",
     "start_time": "2022-02-16T07:31:47.719610Z"
    }
   },
   "outputs": [
    {
     "data": {
      "text/plain": [
       "array(['pos'], dtype=object)"
      ]
     },
     "execution_count": 79,
     "metadata": {},
     "output_type": "execute_result"
    }
   ],
   "source": [
    "pipe.predict(new_review)"
   ]
  }
 ],
 "metadata": {
  "kernelspec": {
   "display_name": "Python 3 (ipykernel)",
   "language": "python",
   "name": "python3"
  },
  "language_info": {
   "codemirror_mode": {
    "name": "ipython",
    "version": 3
   },
   "file_extension": ".py",
   "mimetype": "text/x-python",
   "name": "python",
   "nbconvert_exporter": "python",
   "pygments_lexer": "ipython3",
   "version": "3.9.7"
  }
 },
 "nbformat": 4,
 "nbformat_minor": 5
}
